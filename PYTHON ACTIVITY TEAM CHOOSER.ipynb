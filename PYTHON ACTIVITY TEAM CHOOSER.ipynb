{
 "cells": [
  {
   "cell_type": "markdown",
   "metadata": {},
   "source": [
    "# python activity\n",
    "\n",
    "team chooser"
   ]
  },
  {
   "cell_type": "code",
   "execution_count": null,
   "metadata": {},
   "outputs": [],
   "source": [
    "# create a list of players from file\n",
    "players =  []\n",
    "file = open('players.txt', 'r')\n",
    "players = file.read().splitlines()\n",
    "print('players:', players)\n",
    "\n",
    "#create a list of team names from a file\n",
    "teamNames = []\n",
    "file= open('teamNames.txt, 'r')\n",
    "teamNames = file.read().splitlines()\n",
    "print('team names' teamNames)\n",
    "\n",
    "#create empty team list \n",
    "teamA = []\n",
    "teamB = [] \n",
    "           \n",
    "#loop untill there are no players left\n",
    " while len(players) > 0:\n",
    "\n",
    " # choose a random player for team A\n",
    "   playerA = choice(players)\n",
    "    teamA.append(playerA)\n",
    "    #remove the player from players list\n",
    "    players.remove(playerA)\n",
    "    \n",
    "    #break out of the loop if there are no players left \n",
    "     if players == []:\n",
    "        break\n",
    "    \n",
    "    #choose a random player for team B\n",
    "    playerB = choice(players)\n",
    "    teamB.append(playerB)\n",
    "    #remove the player from players list\n",
    "    players.remove(playerB)\n",
    "           \n",
    "    #choose random team names for the 2 teams \n",
    "        teamNameA = choice(teamNames)\n",
    "        teamNames.remove(teamNameA)\n",
    "        teamNameB = choice(teamNames)\n",
    "        teamNames.remove(teamNameB)\n",
    "           \n",
    "    #print the teams\n",
    "    print('\\nHere are your teams :\\n')\n",
    "    print(teamNameA, teamA)\n",
    "    print(teamNameB, teamB)\n",
    "           \n",
    "    \n",
    "           \n",
    "           \n",
    "        \n",
    "           \n",
    "           \n",
    "            \n",
    "\n"
   ]
  },
  {
   "cell_type": "markdown",
   "metadata": {},
   "source": [
    "Players: ['UJJAWAL','ADNAN','SAGAR','AASHISH']\n",
    "Team names: ['MUMBAI INDIAN','KOLKATTA KNIGHT RIDERS']"
   ]
  },
  {
   "cell_type": "code",
   "execution_count": null,
   "metadata": {},
   "outputs": [],
   "source": []
  }
 ],
 "metadata": {
  "kernelspec": {
   "display_name": "Python 3",
   "language": "python",
   "name": "python3"
  },
  "language_info": {
   "codemirror_mode": {
    "name": "ipython",
    "version": 3
   },
   "file_extension": ".py",
   "mimetype": "text/x-python",
   "name": "python",
   "nbconvert_exporter": "python",
   "pygments_lexer": "ipython3",
   "version": "3.8.5"
  }
 },
 "nbformat": 4,
 "nbformat_minor": 4
}
