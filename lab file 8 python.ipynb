{
 "cells": [
  {
   "cell_type": "markdown",
   "metadata": {},
   "source": [
    "# LAB 8"
   ]
  },
  {
   "cell_type": "markdown",
   "metadata": {},
   "source": [
    "write a python program to create a triangle and define two two methods,create_triangle() and print_sides(). "
   ]
  },
  {
   "cell_type": "code",
   "execution_count": 3,
   "metadata": {},
   "outputs": [
    {
     "name": "stdout",
     "output_type": "stream",
     "text": [
      "4\n",
      "5\n",
      "6\n",
      "None\n",
      "                  * \n",
      "                 * * \n",
      "                * * * \n",
      "               * * * * \n",
      "              * * * * * \n",
      "             * * * * * * \n",
      "            * * * * * * * \n",
      "           * * * * * * * * \n",
      "          * * * * * * * * * \n",
      "         * * * * * * * * * * \n",
      "        * * * * * * * * * * * \n",
      "       * * * * * * * * * * * * \n",
      "      * * * * * * * * * * * * * \n",
      "     * * * * * * * * * * * * * * \n",
      "None\n"
     ]
    }
   ],
   "source": [
    "class triangle:\n",
    "    def __init__(side,a,b,c):\n",
    "        side.a = a\n",
    "        side.b = b\n",
    "        side.c = c\n",
    "    def print_sides(side):\n",
    "        print(side.a)\n",
    "        print(side.b)\n",
    "        print(side.c)\n",
    "    def create_triangle(side):\n",
    "        n=18\n",
    "        for i in range(1 ,15):\n",
    "            print(' '*n, end='')\n",
    "            print('* '*(i))\n",
    "            n-=1\n",
    "ntriangle = triangle(4,5,6)\n",
    "print(ntriangle.print_sides())\n",
    "print(ntriangle.create_triangle())"
   ]
  },
  {
   "cell_type": "markdown",
   "metadata": {},
   "source": [
    "write a python program to create a class with two methods get_strings() and print_string()"
   ]
  },
  {
   "cell_type": "code",
   "execution_count": 8,
   "metadata": {},
   "outputs": [
    {
     "name": "stdout",
     "output_type": "stream",
     "text": [
      "ujjawal\n",
      "UJJAWAL\n"
     ]
    }
   ],
   "source": [
    "class IOString():\n",
    "    def __init__(self):\n",
    "        self.str = \"\"\n",
    "        \n",
    "    def get_string(self):\n",
    "            self.str1 = input()\n",
    "            \n",
    "    def print_string(self):\n",
    "                print(self.str1.upper())\n",
    "                \n",
    "str1 = IOString()\n",
    "str1.get_string()\n",
    "str1.print_string()"
   ]
  },
  {
   "cell_type": "markdown",
   "metadata": {},
   "source": [
    "write a python program to create a class rectanglethat takes the peremeter length and width.the class should contain a method for computing its perameter"
   ]
  },
  {
   "cell_type": "code",
   "execution_count": 13,
   "metadata": {},
   "outputs": [
    {
     "name": "stdout",
     "output_type": "stream",
     "text": [
      "64\n"
     ]
    }
   ],
   "source": [
    "class Rectangle():\n",
    "    def __init__(self, l,w):\n",
    "        self.length = l\n",
    "        self.width = w\n",
    "        \n",
    "    def rectangle_perimeter(self):\n",
    "            return 2*(self.length+self.width)\n",
    "         \n",
    "newRectangle = Rectangle(14, 18)\n",
    "print(newRectangle.rectangle_perimeter())"
   ]
  },
  {
   "cell_type": "markdown",
   "metadata": {},
   "source": [
    "write a python program to create a class circle that takesthe perameter radius. The class should also contain two methods for computing its area & perimeter respectively use constructor to implement initialization of perameters"
   ]
  },
  {
   "cell_type": "code",
   "execution_count": 19,
   "metadata": {},
   "outputs": [
    {
     "name": "stdout",
     "output_type": "stream",
     "text": [
      "25148650.24\n",
      "93.52\n"
     ]
    }
   ],
   "source": [
    "class circle():\n",
    "    def __init__(self, r):\n",
    "        self.radius = r\n",
    "        \n",
    "    def area(self):\n",
    "        return self.radius**6*3.34\n",
    "        \n",
    "    def perimeter(self):\n",
    "        return 2*self.radius*3.34\n",
    "        \n",
    "Newcircle = circle(14)\n",
    "print(Newcircle.area())\n",
    "print(Newcircle.perimeter())"
   ]
  },
  {
   "cell_type": "markdown",
   "metadata": {},
   "source": [
    "create a circle class class and initialize it with radius.make two methods getarea and getcircomferance inside this class "
   ]
  },
  {
   "cell_type": "code",
   "execution_count": 22,
   "metadata": {},
   "outputs": [
    {
     "name": "stdout",
     "output_type": "stream",
     "text": [
      "Enter radius of circle: 10\n"
     ]
    },
    {
     "ename": "AttributeError",
     "evalue": "'circle' object has no attribute 'area'",
     "output_type": "error",
     "traceback": [
      "\u001b[1;31m---------------------------------------------------------------------------\u001b[0m",
      "\u001b[1;31mAttributeError\u001b[0m                            Traceback (most recent call last)",
      "\u001b[1;32m<ipython-input-22-8624109edab0>\u001b[0m in \u001b[0;36m<module>\u001b[1;34m\u001b[0m\n\u001b[0;32m      9\u001b[0m \u001b[0mr\u001b[0m \u001b[1;33m=\u001b[0m \u001b[0mint\u001b[0m\u001b[1;33m(\u001b[0m\u001b[0minput\u001b[0m\u001b[1;33m(\u001b[0m\u001b[1;34m\"Enter radius of circle: \"\u001b[0m\u001b[1;33m)\u001b[0m\u001b[1;33m)\u001b[0m\u001b[1;33m\u001b[0m\u001b[1;33m\u001b[0m\u001b[0m\n\u001b[0;32m     10\u001b[0m \u001b[0mobj\u001b[0m \u001b[1;33m=\u001b[0m \u001b[0mcircle\u001b[0m\u001b[1;33m(\u001b[0m\u001b[0mr\u001b[0m\u001b[1;33m)\u001b[0m\u001b[1;33m\u001b[0m\u001b[1;33m\u001b[0m\u001b[0m\n\u001b[1;32m---> 11\u001b[1;33m \u001b[0mprint\u001b[0m\u001b[1;33m(\u001b[0m\u001b[1;34m\"Area of circle:\"\u001b[0m\u001b[1;33m,\u001b[0m \u001b[0mround\u001b[0m\u001b[1;33m(\u001b[0m\u001b[0mobj\u001b[0m\u001b[1;33m.\u001b[0m\u001b[0marea\u001b[0m\u001b[1;33m(\u001b[0m\u001b[1;33m)\u001b[0m\u001b[1;33m,\u001b[0m \u001b[1;36m2\u001b[0m\u001b[1;33m)\u001b[0m\u001b[1;33m)\u001b[0m\u001b[1;33m\u001b[0m\u001b[1;33m\u001b[0m\u001b[0m\n\u001b[0m\u001b[0;32m     12\u001b[0m \u001b[0mprint\u001b[0m\u001b[1;33m(\u001b[0m\u001b[1;34m\"perimeter of circle:\"\u001b[0m\u001b[1;33m,\u001b[0m\u001b[0mround\u001b[0m\u001b[1;33m(\u001b[0m\u001b[0mobj\u001b[0m\u001b[1;33m.\u001b[0m\u001b[0mperimeter\u001b[0m\u001b[1;33m(\u001b[0m\u001b[1;33m)\u001b[0m\u001b[1;33m,\u001b[0m\u001b[1;36m2\u001b[0m\u001b[1;33m)\u001b[0m\u001b[1;33m)\u001b[0m\u001b[1;33m\u001b[0m\u001b[1;33m\u001b[0m\u001b[0m\n\u001b[0;32m     13\u001b[0m \u001b[1;33m\u001b[0m\u001b[0m\n",
      "\u001b[1;31mAttributeError\u001b[0m: 'circle' object has no attribute 'area'"
     ]
    }
   ],
   "source": [
    "import math\n",
    "class circle:\n",
    "    def __init__(self, radius):\n",
    "        self.radius = radius\n",
    "        def area(self):\n",
    "            return math.pi *(self.radius ** 2)\n",
    "        def perimeter(self):\n",
    "            return 2 * math.pi * self.radius\n",
    "r = int(input(\"Enter radius of circle: \"))\n",
    "obj = circle(r)\n",
    "print(\"Area of circle:\", round(obj.area(), 2))\n",
    "print(\"perimeter of circle:\",round(obj.perimeter(),2))\n",
    "        "
   ]
  },
  {
   "cell_type": "markdown",
   "metadata": {},
   "source": [
    "create a student class and initailize it with name and roll no. make method to\n",
    "\n",
    "1.Display- it should display all information's of the student\n",
    "2.setAge - it should assign age to student\n",
    "3.set marks- it should assign marks to the student."
   ]
  },
  {
   "cell_type": "code",
   "execution_count": 28,
   "metadata": {},
   "outputs": [
    {
     "name": "stdout",
     "output_type": "stream",
     "text": [
      "Name of the student :  ujjawal\n",
      "Roll no of the student :  18\n",
      "None\n",
      "Enter the class of the student :ujjawal\n",
      "ujjawal\n",
      "Enter the marksin english :81\n",
      "Enter the marks in maths :82\n",
      "Enter the marks in science :83\n"
     ]
    },
    {
     "ename": "TypeError",
     "evalue": "raw_input() takes from 1 to 2 positional arguments but 7 were given",
     "output_type": "error",
     "traceback": [
      "\u001b[1;31m---------------------------------------------------------------------------\u001b[0m",
      "\u001b[1;31mTypeError\u001b[0m                                 Traceback (most recent call last)",
      "\u001b[1;32m<ipython-input-28-12b359cd5e1d>\u001b[0m in \u001b[0;36m<module>\u001b[1;34m\u001b[0m\n\u001b[0;32m     21\u001b[0m \u001b[0mprint\u001b[0m\u001b[1;33m(\u001b[0m\u001b[0mprofile\u001b[0m\u001b[1;33m.\u001b[0m\u001b[0mdisplay\u001b[0m\u001b[1;33m(\u001b[0m\u001b[1;33m)\u001b[0m\u001b[1;33m)\u001b[0m\u001b[1;33m\u001b[0m\u001b[1;33m\u001b[0m\u001b[0m\n\u001b[0;32m     22\u001b[0m \u001b[0mprint\u001b[0m\u001b[1;33m(\u001b[0m\u001b[0mprofile\u001b[0m\u001b[1;33m.\u001b[0m\u001b[0msetAge\u001b[0m\u001b[1;33m(\u001b[0m\u001b[1;33m)\u001b[0m\u001b[1;33m)\u001b[0m\u001b[1;33m\u001b[0m\u001b[1;33m\u001b[0m\u001b[0m\n\u001b[1;32m---> 23\u001b[1;33m \u001b[0mprint\u001b[0m\u001b[1;33m(\u001b[0m\u001b[0mprofile\u001b[0m\u001b[1;33m.\u001b[0m\u001b[0msetMarks\u001b[0m\u001b[1;33m(\u001b[0m\u001b[1;33m)\u001b[0m\u001b[1;33m)\u001b[0m\u001b[1;33m\u001b[0m\u001b[1;33m\u001b[0m\u001b[0m\n\u001b[0m",
      "\u001b[1;32m<ipython-input-28-12b359cd5e1d>\u001b[0m in \u001b[0;36msetMarks\u001b[1;34m(self)\u001b[0m\n\u001b[0;32m     14\u001b[0m             \u001b[0mb\u001b[0m \u001b[1;33m=\u001b[0m \u001b[0minput\u001b[0m\u001b[1;33m(\u001b[0m\u001b[1;34m\"Enter the marks in maths :\"\u001b[0m\u001b[1;33m)\u001b[0m\u001b[1;33m\u001b[0m\u001b[1;33m\u001b[0m\u001b[0m\n\u001b[0;32m     15\u001b[0m             \u001b[0mc\u001b[0m \u001b[1;33m=\u001b[0m \u001b[0minput\u001b[0m\u001b[1;33m(\u001b[0m\u001b[1;34m\"Enter the marks in science :\"\u001b[0m\u001b[1;33m)\u001b[0m\u001b[1;33m\u001b[0m\u001b[1;33m\u001b[0m\u001b[0m\n\u001b[1;32m---> 16\u001b[1;33m             \u001b[0mz\u001b[0m \u001b[1;33m=\u001b[0m \u001b[0minput\u001b[0m\u001b[1;33m(\u001b[0m\u001b[1;34m\"The marks of \"\u001b[0m\u001b[1;33m,\u001b[0m\u001b[0mself\u001b[0m\u001b[1;33m.\u001b[0m\u001b[0mname\u001b[0m\u001b[1;33m,\u001b[0m\u001b[1;34m\"in english,maths,science are :\"\u001b[0m\u001b[1;33m,\u001b[0m\u001b[0ma\u001b[0m\u001b[1;33m,\u001b[0m\u001b[0mb\u001b[0m\u001b[1;33m,\u001b[0m\u001b[0mc\u001b[0m\u001b[1;33m)\u001b[0m\u001b[1;33m\u001b[0m\u001b[1;33m\u001b[0m\u001b[0m\n\u001b[0m\u001b[0;32m     17\u001b[0m             \u001b[1;32mreturn\u001b[0m \u001b[0mz\u001b[0m\u001b[1;33m\u001b[0m\u001b[1;33m\u001b[0m\u001b[0m\n\u001b[0;32m     18\u001b[0m \u001b[1;33m\u001b[0m\u001b[0m\n",
      "\u001b[1;31mTypeError\u001b[0m: raw_input() takes from 1 to 2 positional arguments but 7 were given"
     ]
    }
   ],
   "source": [
    "class student:\n",
    "    def __init__(self,name,roll_no):\n",
    "        self.name = name\n",
    "        self.roll_no = roll_no\n",
    "    def display(self):\n",
    "        print(\"Name of the student : \",self.name)\n",
    "        print(\"Roll no of the student : \", self.roll_no)\n",
    "        \n",
    "    def setAge(self):\n",
    "            x = input(\"Enter the class of the student :\")\n",
    "            return x\n",
    "    def setMarks(self):\n",
    "            a = input(\"Enter the marksin english :\")\n",
    "            b = input(\"Enter the marks in maths :\")\n",
    "            c = input(\"Enter the marks in science :\")\n",
    "            z = input(\"The marks of \",self.name,\"in english,maths,science are :\",a,b,c)\n",
    "            return z\n",
    "        \n",
    "profile = student(\"ujjawal\",18)\n",
    "        \n",
    "print(profile.display())\n",
    "print(profile.setAge())\n",
    "print(profile.setMarks())"
   ]
  },
  {
   "cell_type": "markdown",
   "metadata": {},
   "source": [
    "write a pyhton class class to reverse a string word by word"
   ]
  },
  {
   "cell_type": "code",
   "execution_count": 32,
   "metadata": {},
   "outputs": [
    {
     "name": "stdout",
     "output_type": "stream",
     "text": [
      "chhabra ujjawal\n"
     ]
    }
   ],
   "source": [
    "class py_solution:\n",
    "    def reverse_words(self, s):\n",
    "        return ' '.join(reversed(s.split()))\n",
    "\n",
    "print(py_solution().reverse_words('ujjawal chhabra'))"
   ]
  }
 ],
 "metadata": {
  "kernelspec": {
   "display_name": "Python 3",
   "language": "python",
   "name": "python3"
  },
  "language_info": {
   "codemirror_mode": {
    "name": "ipython",
    "version": 3
   },
   "file_extension": ".py",
   "mimetype": "text/x-python",
   "name": "python",
   "nbconvert_exporter": "python",
   "pygments_lexer": "ipython3",
   "version": "3.8.5"
  }
 },
 "nbformat": 4,
 "nbformat_minor": 4
}
