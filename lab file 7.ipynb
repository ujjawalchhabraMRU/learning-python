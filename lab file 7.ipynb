{
 "cells": [
  {
   "cell_type": "markdown",
   "metadata": {},
   "source": [
    "# lab 7"
   ]
  },
  {
   "cell_type": "markdown",
   "metadata": {},
   "source": [
    "write a program to multiply two numbers using functions"
   ]
  },
  {
   "cell_type": "code",
   "execution_count": 1,
   "metadata": {},
   "outputs": [
    {
     "name": "stdout",
     "output_type": "stream",
     "text": [
      "input the number one: 14\n",
      "input the number one: 12\n",
      "the product is 168\n"
     ]
    }
   ],
   "source": [
    "def add_num(a,b):\n",
    "    multiply=a*b;\n",
    "    return multiply;\n",
    "num1 = int(input(\"input the number one: \"))\n",
    "num2 = int(input(\"input the number one: \"))\n",
    "print(\"the product is\",add_num(num1,num2))"
   ]
  },
  {
   "cell_type": "markdown",
   "metadata": {},
   "source": [
    "write a program to add two numbers using functions."
   ]
  },
  {
   "cell_type": "code",
   "execution_count": 2,
   "metadata": {},
   "outputs": [
    {
     "name": "stdout",
     "output_type": "stream",
     "text": [
      "input the number one: 51\n",
      "input the number one :49\n",
      "the sum is 100\n"
     ]
    }
   ],
   "source": [
    "def add_num(a,b):\n",
    "    sum=a+b;\n",
    "    return sum;\n",
    "num1=int(input(\"input the number one: \"))\n",
    "num2=int(input(\"input the number one :\"))\n",
    "print(\"the sum is\",add_num(num1,num2))"
   ]
  },
  {
   "cell_type": "markdown",
   "metadata": {},
   "source": [
    "calculate the factorial of a number using function"
   ]
  },
  {
   "cell_type": "code",
   "execution_count": 7,
   "metadata": {},
   "outputs": [
    {
     "name": "stdout",
     "output_type": "stream",
     "text": [
      "pleas enter any number to find the factorial: 8\n",
      "The factorial of 8 = 2\n"
     ]
    }
   ],
   "source": [
    "def factorial(num):\n",
    "    fact=1\n",
    "    for i in range(1, num+1):\n",
    "        fact=fact+i\n",
    "        return fact\n",
    "number=int(input(\"pleas enter any number to find the factorial: \"))\n",
    "result=factorial(number)\n",
    "print(\"The factorial of %d = %d\"%(number,result))"
   ]
  },
  {
   "cell_type": "markdown",
   "metadata": {},
   "source": [
    "write a program to swapping of two numbers using function"
   ]
  },
  {
   "cell_type": "code",
   "execution_count": 6,
   "metadata": {},
   "outputs": [
    {
     "name": "stdout",
     "output_type": "stream",
     "text": [
      "Please Enter the first value : 56\n",
      "please enter the second value : 72\n",
      "Before swapping two number : num1 =56.0 and num2 = 72.0\n",
      "After Swapping two Number: num1 = 72.0 and num2 = 56.0\n"
     ]
    }
   ],
   "source": [
    "def swap_numbers(a, b):\n",
    "    temp = a\n",
    "    a = b\n",
    "    b = temp\n",
    "    print(\"After Swapping two Number: num1 = {0} and num2 = {1}\".format(a,b))\n",
    "    \n",
    "num1 = float(input(\"Please Enter the first value : \"))\n",
    "num2 = float(input(\"please enter the second value : \"))\n",
    "    \n",
    "print(\"Before swapping two number : num1 ={0} and num2 = {1}\".format(num1, num2))\n",
    "swap_numbers(num1, num2)"
   ]
  },
  {
   "cell_type": "markdown",
   "metadata": {},
   "source": [
    "write a function to find the HCF of some given numbers"
   ]
  },
  {
   "cell_type": "code",
   "execution_count": 10,
   "metadata": {},
   "outputs": [
    {
     "name": "stdout",
     "output_type": "stream",
     "text": [
      "ENTER FIRST NUMBER : 280\n",
      "ENTER SECOND NUMBER : 380\n",
      "THE HCF OF  280  AND  380  IS :  2\n"
     ]
    }
   ],
   "source": [
    "def calc_hcf(n1,n2):\n",
    "    if n1 > n2:\n",
    "        small = n2\n",
    "    else:\n",
    "        small = n1\n",
    "    for i in range(1,small + 1):\n",
    "        if((n1 % i == 0) and (n2 % i == 0)):\n",
    "            return result\n",
    "number1 = int(input(\"ENTER FIRST NUMBER : \"))\n",
    "number2 = int(input(\"ENTER SECOND NUMBER : \"))\n",
    "print(\"THE HCF OF \",number1,\" AND \",number2,\" IS : \",calc_hcf(number1, number2))"
   ]
  },
  {
   "cell_type": "markdown",
   "metadata": {},
   "source": [
    "write the function to find the ASCII value of the character."
   ]
  },
  {
   "cell_type": "code",
   "execution_count": 16,
   "metadata": {},
   "outputs": [
    {
     "name": "stdout",
     "output_type": "stream",
     "text": [
      "please enter any character  : ujjawal\n",
      "The ASCII value = 117\n"
     ]
    }
   ],
   "source": [
    "ch = input(\"please enter any character  : \")\n",
    "           \n",
    "print(\"The ASCII value = %d\" %ord(ch[0]))"
   ]
  },
  {
   "cell_type": "markdown",
   "metadata": {},
   "source": [
    "write a program that demonstrate a mathematical function"
   ]
  },
  {
   "cell_type": "code",
   "execution_count": 18,
   "metadata": {},
   "outputs": [
    {
     "name": "stdout",
     "output_type": "stream",
     "text": [
      "the value of sin(45 degree): 0.8660254037844386\n"
     ]
    }
   ],
   "source": [
    "import math\n",
    "print(\"the value of sin(45 degree): \" + str(math.sin(math.radians(45))))\n",
    "                                                                "
   ]
  },
  {
   "cell_type": "markdown",
   "metadata": {},
   "source": [
    "write a program that demonstrates the date and time function"
   ]
  },
  {
   "cell_type": "code",
   "execution_count": 19,
   "metadata": {},
   "outputs": [
    {
     "name": "stdout",
     "output_type": "stream",
     "text": [
      "2021-07-01 00:09:45.201956\n"
     ]
    }
   ],
   "source": [
    "import datetime\n",
    "x = datetime.datetime.now()\n",
    "print(x)\n"
   ]
  },
  {
   "cell_type": "markdown",
   "metadata": {},
   "source": [
    "write a program that demonstrate required arguments"
   ]
  },
  {
   "cell_type": "code",
   "execution_count": 20,
   "metadata": {},
   "outputs": [
    {
     "name": "stdout",
     "output_type": "stream",
     "text": [
      "Hello Ujjawal Chhabra, Good morning!\n"
     ]
    }
   ],
   "source": [
    "def greet(name,msg):\n",
    "     print(\"Hello\" , name + ', '+ msg)\n",
    "greet(\"Ujjawal Chhabra\", \"Good morning!\")"
   ]
  },
  {
   "cell_type": "markdown",
   "metadata": {},
   "source": [
    "write a program that demonstrate keyword argument"
   ]
  },
  {
   "cell_type": "code",
   "execution_count": 22,
   "metadata": {},
   "outputs": [
    {
     "name": "stdout",
     "output_type": "stream",
     "text": [
      "ujjawal chhabra is learning coding\n"
     ]
    }
   ],
   "source": [
    "def team(name,project,members=None):\n",
    "    team.name= name\n",
    "    team.project= project\n",
    "    team.members= members\n",
    "    print(name, \"is learning\",project)\n",
    "    \n",
    "team(\"ujjawal chhabra\",project = \"coding\")"
   ]
  },
  {
   "cell_type": "markdown",
   "metadata": {},
   "source": [
    "write a program that demonstrate default arguments"
   ]
  },
  {
   "cell_type": "code",
   "execution_count": 24,
   "metadata": {},
   "outputs": [
    {
     "name": "stdout",
     "output_type": "stream",
     "text": [
      "hello Ujjawal\n"
     ]
    }
   ],
   "source": [
    "def greet(name, message='hello'):\n",
    "    return f\"{message} {name}\"\n",
    "\n",
    "greeting  = greet('Ujjawal')\n",
    "print(greeting)\n"
   ]
  },
  {
   "cell_type": "markdown",
   "metadata": {},
   "source": [
    "write a program that demonstrate veriable length argument"
   ]
  },
  {
   "cell_type": "code",
   "execution_count": 26,
   "metadata": {},
   "outputs": [
    {
     "data": {
      "text/plain": [
       "2"
      ]
     },
     "execution_count": 26,
     "metadata": {},
     "output_type": "execute_result"
    }
   ],
   "source": [
    "def my_min(*args):\n",
    "    result = args[0]\n",
    "    for num in args:\n",
    "        if num < result:\n",
    "            result = num\n",
    "    return result\n",
    "my_min(2,4,6,8,10)"
   ]
  }
 ],
 "metadata": {
  "kernelspec": {
   "display_name": "Python 3",
   "language": "python",
   "name": "python3"
  },
  "language_info": {
   "codemirror_mode": {
    "name": "ipython",
    "version": 3
   },
   "file_extension": ".py",
   "mimetype": "text/x-python",
   "name": "python",
   "nbconvert_exporter": "python",
   "pygments_lexer": "ipython3",
   "version": "3.8.5"
  }
 },
 "nbformat": 4,
 "nbformat_minor": 4
}
