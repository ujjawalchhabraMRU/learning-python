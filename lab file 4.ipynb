{
 "cells": [
  {
   "cell_type": "markdown",
   "metadata": {},
   "source": [
    "# LAB4"
   ]
  },
  {
   "cell_type": "markdown",
   "metadata": {},
   "source": [
    "write a python program to create a tuple"
   ]
  },
  {
   "cell_type": "code",
   "execution_count": 2,
   "metadata": {},
   "outputs": [
    {
     "name": "stdout",
     "output_type": "stream",
     "text": [
      "('u', 'j', 'w')\n"
     ]
    }
   ],
   "source": [
    "tup = (\"u\",\"j\",\"w\")\n",
    "print(tup)"
   ]
  },
  {
   "cell_type": "markdown",
   "metadata": {},
   "source": [
    "write a python program to create tuple using different data types"
   ]
  },
  {
   "cell_type": "code",
   "execution_count": 4,
   "metadata": {},
   "outputs": [
    {
     "name": "stdout",
     "output_type": "stream",
     "text": [
      "('u', 7, 'c', True)\n"
     ]
    }
   ],
   "source": [
    "tup = (\"u\",7,\"c\",True)\n",
    "print(tup)"
   ]
  },
  {
   "cell_type": "markdown",
   "metadata": {},
   "source": [
    "write a python progrm to create a tuple with numbers and print one item"
   ]
  },
  {
   "cell_type": "code",
   "execution_count": 5,
   "metadata": {},
   "outputs": [
    {
     "name": "stdout",
     "output_type": "stream",
     "text": [
      "8\n"
     ]
    }
   ],
   "source": [
    "tup = (2,4,6,8,10,12)\n",
    "print(tup[3])"
   ]
  },
  {
   "cell_type": "markdown",
   "metadata": {},
   "source": [
    "write a python program to unpack tuple in several veriables"
   ]
  },
  {
   "cell_type": "code",
   "execution_count": 6,
   "metadata": {},
   "outputs": [
    {
     "name": "stdout",
     "output_type": "stream",
     "text": [
      "u\n",
      "7\n",
      ",c\n",
      "True\n"
     ]
    }
   ],
   "source": [
    "tup = (\"u\",7,\",c\",True)\n",
    "(u,c,k,wrong) = tup\n",
    "print(u)\n",
    "print(c)\n",
    "print(k)\n",
    "print(wrong)"
   ]
  },
  {
   "cell_type": "markdown",
   "metadata": {},
   "source": [
    "write a python program to add an item in the tuple"
   ]
  },
  {
   "cell_type": "code",
   "execution_count": 7,
   "metadata": {},
   "outputs": [
    {
     "name": "stdout",
     "output_type": "stream",
     "text": [
      "('U', 'C', 'w', 'HII')\n"
     ]
    }
   ],
   "source": [
    "tup_1 = (\"U\",\"C\",\"w\")\n",
    "list_1 =list(tup_1)\n",
    "list_1.append(\"HII\")\n",
    "tup_2 =tuple(list_1)\n",
    "print(tup_2)\n"
   ]
  },
  {
   "cell_type": "markdown",
   "metadata": {},
   "source": [
    "write a python program program to convert tuple to a string."
   ]
  },
  {
   "cell_type": "code",
   "execution_count": 10,
   "metadata": {},
   "outputs": [
    {
     "name": "stdout",
     "output_type": "stream",
     "text": [
      "('u', 'c', 'w')\n"
     ]
    }
   ],
   "source": [
    "tup_1 = (\"u\",\"c\",\"w\")\n",
    "l = str(tup_1)\n",
    "print(l)"
   ]
  },
  {
   "cell_type": "markdown",
   "metadata": {},
   "source": [
    "write a python program to get the 4th element and 4 th and 4 th element from the last of the tuple"
   ]
  },
  {
   "cell_type": "code",
   "execution_count": 15,
   "metadata": {},
   "outputs": [
    {
     "name": "stdout",
     "output_type": "stream",
     "text": [
      "eb\n"
     ]
    }
   ],
   "source": [
    "tup = (\"a\",\"b\",\"c\",\"d\",\"e\",\"f\")\n",
    "print(tup[4]+tup[-5])"
   ]
  },
  {
   "cell_type": "markdown",
   "metadata": {},
   "source": [
    "write a python program to convert a list to tuple"
   ]
  },
  {
   "cell_type": "code",
   "execution_count": 20,
   "metadata": {},
   "outputs": [
    {
     "name": "stdout",
     "output_type": "stream",
     "text": [
      "('u', 'c', 'w')\n"
     ]
    }
   ],
   "source": [
    "list_1 = [\"u\",\"c\",\"w\"]\n",
    "tup_1 = tuple(list_1)\n",
    "print(tup_1)"
   ]
  },
  {
   "cell_type": "markdown",
   "metadata": {},
   "source": [
    "write a python program to remove an item from tuple"
   ]
  },
  {
   "cell_type": "code",
   "execution_count": 21,
   "metadata": {},
   "outputs": [
    {
     "name": "stdout",
     "output_type": "stream",
     "text": [
      "('u', 'j', 'a')\n"
     ]
    }
   ],
   "source": [
    "tup_1 = (\"u\",\"j\",\"a\",\"w\")\n",
    "list_1 = list(tup_1)\n",
    "list_1.remove(\"w\")\n",
    "tup_2 =tuple(list_1)\n",
    "print(tup_2)"
   ]
  },
  {
   "cell_type": "markdown",
   "metadata": {},
   "source": [
    "write a python program to slice a tuple"
   ]
  },
  {
   "cell_type": "code",
   "execution_count": 23,
   "metadata": {},
   "outputs": [
    {
     "name": "stdout",
     "output_type": "stream",
     "text": [
      "('c', 'w')\n"
     ]
    }
   ],
   "source": [
    "tup = (\"u\",\"c\",\"w\",\"a\")\n",
    "print(tup[1 : 3])"
   ]
  },
  {
   "cell_type": "markdown",
   "metadata": {},
   "source": [
    "write a python program to find the index of a item of a tuple"
   ]
  },
  {
   "cell_type": "code",
   "execution_count": 24,
   "metadata": {},
   "outputs": [
    {
     "name": "stdout",
     "output_type": "stream",
     "text": [
      "0\n"
     ]
    }
   ],
   "source": [
    "tup_1 = (\"u\",\"c\",\"w\",\"a\")\n",
    "var = tup_1.index(\"u\")\n",
    "print(var)"
   ]
  },
  {
   "cell_type": "markdown",
   "metadata": {},
   "source": [
    "write a python program to find the length of a tuple"
   ]
  },
  {
   "cell_type": "code",
   "execution_count": 25,
   "metadata": {},
   "outputs": [
    {
     "name": "stdout",
     "output_type": "stream",
     "text": [
      "4\n"
     ]
    }
   ],
   "source": [
    "tup = (\"u\",\"c\",\"w\",\"k\")\n",
    "print(len(tup))"
   ]
  },
  {
   "cell_type": "markdown",
   "metadata": {},
   "source": [
    "write a python program to reverse a tuple."
   ]
  },
  {
   "cell_type": "code",
   "execution_count": 26,
   "metadata": {},
   "outputs": [
    {
     "name": "stdout",
     "output_type": "stream",
     "text": [
      "<reversed object at 0x000001E47B80A0A0>\n"
     ]
    }
   ],
   "source": [
    "tup = (\"u\",\"c\",\"w\",\"k\",\"f\")\n",
    "tup_2 = reversed(tup)\n",
    "print(tup_2)"
   ]
  }
 ],
 "metadata": {
  "kernelspec": {
   "display_name": "Python 3",
   "language": "python",
   "name": "python3"
  },
  "language_info": {
   "codemirror_mode": {
    "name": "ipython",
    "version": 3
   },
   "file_extension": ".py",
   "mimetype": "text/x-python",
   "name": "python",
   "nbconvert_exporter": "python",
   "pygments_lexer": "ipython3",
   "version": "3.8.5"
  }
 },
 "nbformat": 4,
 "nbformat_minor": 4
}
