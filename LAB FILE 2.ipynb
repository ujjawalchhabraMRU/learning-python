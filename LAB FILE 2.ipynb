{
 "cells": [
  {
   "cell_type": "markdown",
   "metadata": {},
   "source": [
    "# lab2"
   ]
  },
  {
   "cell_type": "markdown",
   "metadata": {},
   "source": [
    "program to check weather given number is odd or even"
   ]
  },
  {
   "cell_type": "code",
   "execution_count": 6,
   "metadata": {},
   "outputs": [
    {
     "name": "stdout",
     "output_type": "stream",
     "text": [
      "enter the number :\n",
      "even number\n"
     ]
    }
   ],
   "source": [
    "print(\"enter the number :\")\n",
    "x = int(int())\n",
    "if(x%2  ==0):\n",
    "    print(\"even number\")\n",
    "else : print(\"odd number\")"
   ]
  },
  {
   "cell_type": "markdown",
   "metadata": {},
   "source": [
    "check weather entered year is leap or not"
   ]
  },
  {
   "cell_type": "code",
   "execution_count": 4,
   "metadata": {},
   "outputs": [
    {
     "name": "stdout",
     "output_type": "stream",
     "text": [
      "enter a year :\n",
      "2010\n",
      "leap year\n"
     ]
    }
   ],
   "source": [
    "print(\"enter a year :\")\n",
    "x = int(input())\n",
    "if(x%4 ==0):\n",
    "   print(\"leap year\")\n",
    "else : print(\"not a leap year\")"
   ]
  },
  {
   "cell_type": "raw",
   "metadata": {},
   "source": [
    "write a program to check weather the character are vowel or consonents"
   ]
  },
  {
   "cell_type": "code",
   "execution_count": 7,
   "metadata": {},
   "outputs": [
    {
     "name": "stdout",
     "output_type": "stream",
     "text": [
      "enter a input :\n",
      "u\n",
      "u is a vowel\n"
     ]
    }
   ],
   "source": [
    "print(\"enter a input :\")\n",
    "ch = input()\n",
    "if(ch ==\"a\" or ch== \"A\" or ch== \"E\" or ch==\"e\" or ch==\"I\" or ch==\"i\" or ch==\"O\" or ch==\"o\" or ch==\"U\" or ch==\"u\"):\n",
    "    print(ch, \"is a vowel\")\n",
    "else : print(ch,\"is a cosonent\")"
   ]
  },
  {
   "cell_type": "markdown",
   "metadata": {},
   "source": [
    "write a program to find the smallest of two numbers"
   ]
  },
  {
   "cell_type": "markdown",
   "metadata": {},
   "source": [
    "print(\"enter the two numbers :\")\n",
    "x = int(input())\n",
    "y = int(input())\n",
    "if(y>x):\n",
    "    print(y,\"is greater\")\n",
    "else : print(x, \"is greater\")"
   ]
  },
  {
   "cell_type": "markdown",
   "metadata": {},
   "source": [
    "find the factorial of a number"
   ]
  },
  {
   "cell_type": "code",
   "execution_count": 12,
   "metadata": {},
   "outputs": [
    {
     "name": "stdout",
     "output_type": "stream",
     "text": [
      "enter a number to find the factorial :\n",
      "7\n",
      "the factorial of 7 is 5040\n"
     ]
    }
   ],
   "source": [
    "i=0\n",
    "fact=1\n",
    "print(\"enter a number to find the factorial :\")\n",
    "x = int(input())\n",
    "for i in range(1 , x+1) :\n",
    "    fact = fact*i\n",
    "    \n",
    "print(\"the factorial of\",x, \"is\" , fact)"
   ]
  },
  {
   "cell_type": "markdown",
   "metadata": {},
   "source": [
    "write a program to print this pattern"
   ]
  },
  {
   "cell_type": "code",
   "execution_count": 30,
   "metadata": {},
   "outputs": [
    {
     "name": "stdout",
     "output_type": "stream",
     "text": [
      "Enter number of rows : 7\n",
      "      * \n",
      "\n",
      "     * * \n",
      "\n",
      "    * * * \n",
      "\n",
      "   * * * * \n",
      "\n",
      "  * * * * * \n",
      "\n",
      " * * * * * * \n",
      "\n",
      "* * * * * * * \n",
      "\n"
     ]
    }
   ],
   "source": [
    "a = int(input(\"Enter number of rows : \")) \n",
    "for i in range (1,a+1):\n",
    "    print(\" \"*(a-i),end=\"\")\n",
    "    for j in range(0,i):\n",
    "        print(\"*\",end=\" \")\n",
    "    print(\"\\n\")"
   ]
  },
  {
   "cell_type": "markdown",
   "metadata": {},
   "source": [
    "check weather the number is prime or not"
   ]
  },
  {
   "cell_type": "code",
   "execution_count": 31,
   "metadata": {},
   "outputs": [
    {
     "name": "stdout",
     "output_type": "stream",
     "text": [
      "pleas enter the number: 7\n",
      "7 is a prime number\n"
     ]
    }
   ],
   "source": [
    "x = int(input(\"pleas enter the number: \"))\n",
    "\n",
    "if x > 1:\n",
    "    for i in range(2,x//2):\n",
    "        if (x % i) == 0:\n",
    "            print(x,\"is not a prime number\")\n",
    "            break\n",
    "        else:\n",
    "            print(x,\"is a prime number\")\n",
    "else:\n",
    "    print(x, \"is not a prime number\")\n",
    "        "
   ]
  },
  {
   "cell_type": "markdown",
   "metadata": {},
   "source": [
    "make a simple calculator"
   ]
  },
  {
   "cell_type": "code",
   "execution_count": 42,
   "metadata": {},
   "outputs": [
    {
     "name": "stdout",
     "output_type": "stream",
     "text": [
      "Enter a two numbers :\n",
      "5\n",
      "9\n",
      "Enter choice from 1-4 :\n",
      "3\n",
      " Product of 5 and 9 is 45\n"
     ]
    }
   ],
   "source": [
    "add = 0\n",
    "diff = 0\n",
    "pdt = 0\n",
    "div = 0\n",
    "print(\"Enter a two numbers :\")\n",
    "a = int(input())\n",
    "b = int(input())\n",
    "print(\"Enter choice from 1-4 :\")\n",
    "n = int(input())\n",
    "if(n == 1):\n",
    "    add = a+b\n",
    "    print(\" Sum of\",a,\"and\",b, \"is\",add)\n",
    "elif(n == 2):\n",
    "    diff = b-a\n",
    "    print(\" Difference of\",a,\"and\",b,\"is\",diff)\n",
    "elif(n == 3):\n",
    "    pdt = b * a\n",
    "    print(\" Product of\",a,\"and\",b,\"is\",pdt)\n",
    "elif(n == 4):\n",
    "    div = b/a\n",
    "    print(\" Division of\",a,\"and\",b,\"is\",div)\n",
    "else: print(\"INVALID INPUT\")\n",
    " \n"
   ]
  }
 ],
 "metadata": {
  "kernelspec": {
   "display_name": "Python 3",
   "language": "python",
   "name": "python3"
  },
  "language_info": {
   "codemirror_mode": {
    "name": "ipython",
    "version": 3
   },
   "file_extension": ".py",
   "mimetype": "text/x-python",
   "name": "python",
   "nbconvert_exporter": "python",
   "pygments_lexer": "ipython3",
   "version": "3.8.5"
  }
 },
 "nbformat": 4,
 "nbformat_minor": 4
}
